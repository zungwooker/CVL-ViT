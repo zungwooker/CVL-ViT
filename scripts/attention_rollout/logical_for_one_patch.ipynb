{
 "cells": [
  {
   "attachments": {},
   "cell_type": "markdown",
   "metadata": {},
   "source": [
    "# 특정한 1개의 위치의 패치의 어텐션 경향 추출\n",
    "TP, TN, FP, FN 4가지 상황에서 특정한 패치의 위치를 입력으로 받고 그 패치의 어텐션 값의 경향을 그래프로 추출합니다.\n",
    "\n",
    "14*14크기의 어텐션 맵에서 index는 가장 위쪽이 x가 0, 가장 왼쪽이 y가 0입니다."
   ]
  },
  {
   "attachments": {},
   "cell_type": "markdown",
   "metadata": {},
   "source": [
    "### Import Libraries"
   ]
  },
  {
   "cell_type": "code",
   "execution_count": 37,
   "metadata": {},
   "outputs": [],
   "source": [
    "import torch\n",
    "import numpy as np\n",
    "import pickle\n",
    "import matplotlib.pyplot as plt\n",
    "import glob\n",
    "\n",
    "from vit_rollout import VITAttentionRollout"
   ]
  },
  {
   "attachments": {},
   "cell_type": "markdown",
   "metadata": {},
   "source": [
    "### Definition"
   ]
  },
  {
   "cell_type": "code",
   "execution_count": 38,
   "metadata": {},
   "outputs": [],
   "source": [
    "def draw_img(model, PATH_data_list, label):\n",
    "    attention_list = list()\n",
    "    data_number_list = list()\n",
    "    for PATH_data in PATH_data_list:\n",
    "        data_number = PATH_data.split('/')[-1].split('.')[0].split('\\\\')[-1]\n",
    "        data_number_list.append(int(data_number))\n",
    "        \n",
    "        # Load data: using CPU\n",
    "        with open(PATH_data, 'rb') as f:\n",
    "            data = pickle.load(f)\n",
    "\n",
    "        input_tensor = data['tensor']\n",
    "        input_tensor = input_tensor.reshape((1,14,28,28))\n",
    "        input_tensor = input_tensor.to(torch.float32).cpu()\n",
    "\n",
    "        # Rollout attentions\n",
    "        attention_rollout = VITAttentionRollout(model, head_fusion='max', discard_ratio=0.90)\n",
    "        mask_law = attention_rollout(input_tensor) # (14, 14)\n",
    "        attention_list.append(mask_law)\n",
    "\n",
    "        np.set_printoptions(precision=4, formatter={'float': lambda x: \"{0:0.3f}\".format(x)}, linewidth=np.Inf)\n",
    "        f = open(\"../../output/attention_logical/\"+label+\"_\"+data_number+\".txt\", 'w')\n",
    "        f.write(str(mask_law))\n",
    "        f.close()\n",
    "\n",
    "    return attention_list, data_number_list"
   ]
  },
  {
   "cell_type": "code",
   "execution_count": 39,
   "metadata": {},
   "outputs": [],
   "source": [
    "def plot_attention(attention_list, x, y, data_number_list, label):\n",
    "    attentions = list()\n",
    "    for i in range(len(attention_list)):\n",
    "        attentions.append(attention_list[i][x][y])\n",
    "\n",
    "    fig, ax = plt.subplots()\n",
    "\n",
    "    ax.set_title(label+\" X:\"+str(x)+\" Y:\"+str(y))\n",
    "\n",
    "    ax.set_ylim(0, 1.1) # express y in range 0 to 1.1 \n",
    "\n",
    "    ax.set_xlabel('frame number')\n",
    "    ax.set_ylabel('attention')\n",
    "\n",
    "    ax.set_xticks(data_number_list)\n",
    "    ax.set_yticks([y*0.1 for y in range(0,11)])\n",
    "\n",
    "    ax.plot(data_number_list, attentions)\n",
    "\n",
    "    ax.grid()\n",
    "\n",
    "    fig.set_figwidth(2000/fig.dpi)\n",
    "    fig.set_figheight(700/fig.dpi)\n",
    "    fig.show()"
   ]
  },
  {
   "attachments": {},
   "cell_type": "markdown",
   "metadata": {},
   "source": [
    "### Load Data Path"
   ]
  },
  {
   "cell_type": "code",
   "execution_count": 40,
   "metadata": {},
   "outputs": [],
   "source": [
    "# 285~325\n",
    "PATH_sample_data_TP_list = glob.glob(\"../../dataset/data_preprocessed/Vulner/21-12-01-11-41-59_end_extract_drive8/*\")\n",
    "\n",
    "# 300~350\n",
    "PATH_sample_data_TN_list = glob.glob(\"../../dataset/data_preprocessed/None-crash/21-12-01-11-07-44_end_extract_drive3/*\")\n",
    "\n",
    "# 95~115\n",
    "PATH_sample_data_FP_list = glob.glob(\"../../dataset/data_preprocessed/None-crash/21-12-29-11-04-19_end_extract_drive14/*\") \n",
    "\n",
    "# 290~305 -> start with 292\n",
    "PATH_sample_data_FN_list = glob.glob(\"../../dataset/data_preprocessed/Vulner/21-12-14-15-04-44_end_extract_drive2/*\") \n",
    "\n",
    "PATH_sample_data_TN_list = PATH_sample_data_TN_list[297:347+1]\n",
    "PATH_sample_data_FP_list = PATH_sample_data_FP_list[92:112+1]\n",
    "\n",
    "model = model = torch.load('../../model/model.pt').cpu()"
   ]
  },
  {
   "attachments": {},
   "cell_type": "markdown",
   "metadata": {},
   "source": [
    "### Get Input"
   ]
  },
  {
   "cell_type": "code",
   "execution_count": 41,
   "metadata": {},
   "outputs": [],
   "source": [
    "x, y = 0, 4\n",
    "label = 'TP'\n",
    "PATH_data_list = PATH_sample_data_TP_list"
   ]
  },
  {
   "attachments": {},
   "cell_type": "markdown",
   "metadata": {},
   "source": [
    "### Generate Graph"
   ]
  },
  {
   "cell_type": "code",
   "execution_count": null,
   "metadata": {},
   "outputs": [],
   "source": [
    "attention_list, data_number_list = draw_img(model=model, PATH_data_list=PATH_data_list, label=label)\n",
    "plot_attention(attention_list=attention_list, x=x,y=y,data_number_list=data_number_list, label=label)"
   ]
  }
 ],
 "metadata": {
  "kernelspec": {
   "display_name": "vit",
   "language": "python",
   "name": "python3"
  },
  "language_info": {
   "codemirror_mode": {
    "name": "ipython",
    "version": 3
   },
   "file_extension": ".py",
   "mimetype": "text/x-python",
   "name": "python",
   "nbconvert_exporter": "python",
   "pygments_lexer": "ipython3",
   "version": "3.8.13"
  },
  "orig_nbformat": 4,
  "vscode": {
   "interpreter": {
    "hash": "d295846fd87ef922e6d55b2a4ce474aad62b0611de94fcaf8d499101fc8d41c3"
   }
  }
 },
 "nbformat": 4,
 "nbformat_minor": 2
}
