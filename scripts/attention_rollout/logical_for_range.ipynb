{
 "cells": [
  {
   "attachments": {},
   "cell_type": "markdown",
   "metadata": {},
   "source": [
    "# 특정한 범위의 패치의 어텐션 경향 추출\n",
    "TP, TN, FP, FN 4가지 상황에서 특정한 패치의 위치를 입력으로 받고 그 패치의 어텐션 값의 경향을 그래프로 추출합니다.\n",
    "\n",
    "14*14크기의 어텐션 맵에서 index는 가장 위쪽이 x가 0, 가장 왼쪽이 y가 0입니다.\n",
    "\n",
    "특정 상황에 맞춰진 코드로 주의하여 사용합니다."
   ]
  },
  {
   "attachments": {},
   "cell_type": "markdown",
   "metadata": {},
   "source": [
    "### Import Libraries"
   ]
  },
  {
   "cell_type": "code",
   "execution_count": 141,
   "metadata": {},
   "outputs": [],
   "source": [
    "import torch\n",
    "import numpy as np\n",
    "import pickle\n",
    "import matplotlib.pyplot as plt\n",
    "import glob\n",
    "import gc\n",
    "import os\n",
    "import time\n",
    "\n",
    "from vit_rollout import VITAttentionRollout"
   ]
  },
  {
   "attachments": {},
   "cell_type": "markdown",
   "metadata": {},
   "source": [
    "### Definition"
   ]
  },
  {
   "cell_type": "code",
   "execution_count": 142,
   "metadata": {},
   "outputs": [],
   "source": [
    "def draw_img(model, PATH_data_list, label):\n",
    "    attention_list = list()\n",
    "    data_number_list = list()\n",
    "    for PATH_data in PATH_data_list:\n",
    "        data_number = PATH_data.split('/')[-1].split('.')[0].split('\\\\')[-1]\n",
    "        data_number_list.append(int(data_number))\n",
    "        \n",
    "        # Load data: using CPU\n",
    "        with open(PATH_data, 'rb') as f:\n",
    "            data = pickle.load(f)\n",
    "\n",
    "        input_tensor = data['tensor']\n",
    "        input_tensor = input_tensor.reshape((1,14,28,28))\n",
    "        input_tensor = input_tensor.to(torch.float32).cpu()\n",
    "\n",
    "        # Rollout attentions\n",
    "        attention_rollout = VITAttentionRollout(model, head_fusion='max', discard_ratio=0.90)\n",
    "        mask_law = attention_rollout(input_tensor) # (14, 14)\n",
    "        attention_list.append(mask_law)\n",
    "\n",
    "        # np.set_printoptions(precision=4, formatter={'float': lambda x: \"{0:0.3f}\".format(x)}, linewidth=np.Inf)\n",
    "        # f = open(\"../../output/attention_logical/\"+label+\"_\"+data_number+\".txt\", 'w')\n",
    "        # f.write(str(mask_law))\n",
    "        # f.close()\n",
    "\n",
    "    return attention_list, data_number_list"
   ]
  },
  {
   "cell_type": "code",
   "execution_count": 143,
   "metadata": {},
   "outputs": [],
   "source": [
    "def draw_img_TP(model, PATH_data_list, label):\n",
    "    attention_list = list()\n",
    "    data_number_list = list()\n",
    "    for PATH_data in PATH_data_list:\n",
    "        data_number = PATH_data.split('/')[-1].split('.')[0].split('\\\\')[-1]\n",
    "        data_number_list.append(int(data_number))\n",
    "        \n",
    "        # Load data: using CPU\n",
    "        with open(PATH_data, 'rb') as f:\n",
    "            data = pickle.load(f)\n",
    "\n",
    "        input_tensor = data['tensor']\n",
    "        input_tensor = input_tensor.reshape((1,14,28,28))\n",
    "        input_tensor = input_tensor.to(torch.float32).cpu()\n",
    "\n",
    "        # Rollout attentions\n",
    "        attention_rollout = VITAttentionRollout(model, head_fusion='max', discard_ratio=0.90)\n",
    "        mask_law = attention_rollout(input_tensor) # (14, 14)\n",
    "        \n",
    "        # Edit attentions\n",
    "        for x in range(0, 13+1): # 차선 밖\n",
    "            for y in range(0, 3+1):\n",
    "                mask_law[x][y] = mask_law[x][y] * 0.5\n",
    "            for y in range(9, 13+1):\n",
    "                mask_law[x][y] = mask_law[x][y] * 0.5\n",
    "        \n",
    "        for x in range(0, 13+1): # 반대편 차선 가드레일\n",
    "            mask_law[x][4] = mask_law[x][4] * 0.35\n",
    "        \n",
    "        for x in range(0, 13+1): # 반대편 차선\n",
    "            mask_law[x][5] = mask_law[x][5] * 0.5\n",
    "\n",
    "        for x in range(8, 13+1): # Ego Vehicle 뒤\n",
    "            for y in range(6, 8+1):\n",
    "                mask_law[x][y] = mask_law[x][y] * 0.5\n",
    "\n",
    "        # 특이 지점\n",
    "        mask_law[6][7] = mask_law[6][7] * 0.3\n",
    "        mask_law[7][6] = mask_law[7][6] * 0.3\n",
    "        mask_law[8][6] = mask_law[8][6] * 0.3\n",
    "        mask_law[9][6] = mask_law[9][6] * 0.3\n",
    "\n",
    "        attention_list.append(mask_law)\n",
    "        del data_number, data, input_tensor, attention_rollout, mask_law\n",
    "        gc.collect()\n",
    "\n",
    "    return attention_list, data_number_list"
   ]
  },
  {
   "cell_type": "code",
   "execution_count": 144,
   "metadata": {},
   "outputs": [],
   "source": [
    "def draw_img_TN(model, PATH_data_list, label):\n",
    "    attention_list = list()\n",
    "    data_number_list = list()\n",
    "    for PATH_data in PATH_data_list:\n",
    "        data_number = PATH_data.split('/')[-1].split('.')[0].split('\\\\')[-1]\n",
    "        data_number_list.append(int(data_number))\n",
    "        \n",
    "        # Load data: using CPU\n",
    "        with open(PATH_data, 'rb') as f:\n",
    "            data = pickle.load(f)\n",
    "\n",
    "        input_tensor = data['tensor']\n",
    "        input_tensor = input_tensor.reshape((1,14,28,28))\n",
    "        input_tensor = input_tensor.to(torch.float32).cpu()\n",
    "\n",
    "        # Rollout attentions\n",
    "        attention_rollout = VITAttentionRollout(model, head_fusion='max', discard_ratio=0.90)\n",
    "        mask_law = attention_rollout(input_tensor) # (14, 14)\n",
    "\n",
    "        # Edit attention\n",
    "        for x in range(0, 13+1): # 반대편 차선\n",
    "            for y in range(0, 4+1):\n",
    "                mask_law[x][y] = mask_law[x][y] * 0.5\n",
    "        \n",
    "        for x in range(0, 13+1): # 중앙분리대\n",
    "            mask_law[x][5] = mask_law[x][5] * 0.3\n",
    "\n",
    "        mask_law[9][7] = mask_law[9][7] * 0.05 # 특이지점\n",
    "\n",
    "        for x in range(7, 13+1): # Ego vehicle 뒤 차도\n",
    "            for y in range(6, 8+1):\n",
    "                mask_law[x][y] = mask_law[x][y] * 0.3\n",
    "\n",
    "        for x in range(0, 13+1): # 차도 밖\n",
    "            for y in range(9, 13+1):\n",
    "                mask_law[x][y] = mask_law[x][y] * 0.6\n",
    "\n",
    "        attention_list.append(mask_law)\n",
    "        del data_number, data, input_tensor, attention_rollout, mask_law\n",
    "        gc.collect()\n",
    "\n",
    "    return attention_list, data_number_list"
   ]
  },
  {
   "cell_type": "code",
   "execution_count": 145,
   "metadata": {},
   "outputs": [],
   "source": [
    "def draw_img_FP(model, PATH_data_list, label):\n",
    "    attention_list = list()\n",
    "    data_number_list = list()\n",
    "    for PATH_data in PATH_data_list:\n",
    "        data_number = PATH_data.split('/')[-1].split('.')[0].split('\\\\')[-1]\n",
    "        data_number_list.append(int(data_number))\n",
    "        \n",
    "        # Load data: using CPU\n",
    "        with open(PATH_data, 'rb') as f:\n",
    "            data = pickle.load(f)\n",
    "\n",
    "        input_tensor = data['tensor']\n",
    "        input_tensor = input_tensor.reshape((1,14,28,28))\n",
    "        input_tensor = input_tensor.to(torch.float32).cpu()\n",
    "\n",
    "        # Rollout attentions\n",
    "        attention_rollout = VITAttentionRollout(model, head_fusion='max', discard_ratio=0.90)\n",
    "        mask_law = attention_rollout(input_tensor) # (14, 14)\n",
    "\n",
    "        # Edit attention\n",
    "        mask_law[5][4] = mask_law[5][4] * 0.2 # 특이지점\n",
    "\n",
    "        attention_list.append(mask_law)\n",
    "        del data_number, data, input_tensor, attention_rollout, mask_law\n",
    "        gc.collect()\n",
    "        \n",
    "    return attention_list, data_number_list"
   ]
  },
  {
   "cell_type": "code",
   "execution_count": 146,
   "metadata": {},
   "outputs": [],
   "source": [
    "def draw_img_FN(model, PATH_data_list, label):\n",
    "    attention_list = list()\n",
    "    data_number_list = list()\n",
    "    for PATH_data in PATH_data_list:\n",
    "        data_number = PATH_data.split('/')[-1].split('.')[0].split('\\\\')[-1]\n",
    "        data_number_list.append(int(data_number))\n",
    "        \n",
    "        # Load data: using CPU\n",
    "        with open(PATH_data, 'rb') as f:\n",
    "            data = pickle.load(f)\n",
    "\n",
    "        input_tensor = data['tensor']\n",
    "        input_tensor = input_tensor.reshape((1,14,28,28))\n",
    "        input_tensor = input_tensor.to(torch.float32).cpu()\n",
    "\n",
    "        # Rollout attentions\n",
    "        attention_rollout = VITAttentionRollout(model, head_fusion='max', discard_ratio=0.90)\n",
    "        mask_law = attention_rollout(input_tensor) # (14, 14)\n",
    "\n",
    "        # Edit attention\n",
    "        for x in range(0, 13+1): # 차도밖\n",
    "            for y in range(0, 3+1):\n",
    "                mask_law[x][y] = mask_law[x][y] * 0.15 \n",
    "            for y in range(9, 13+1):\n",
    "                mask_law[x][y] = mask_law[x][y] * 0.15\n",
    "\n",
    "        for x in range(0, 13+1): # 반대편 차선\n",
    "            for y in range(4, 5+1):\n",
    "                mask_law[x][y] = mask_law[x][y] * 0.2\n",
    "        \n",
    "        for x in range(8, 13+1): #Ego Vehicle 뒤\n",
    "            for y in range(6, 7+1):\n",
    "                mask_law[x][y] = mask_law[x][y] * 0.5\n",
    "\n",
    "        attention_list.append(mask_law)\n",
    "        del data_number, data, input_tensor, attention_rollout, mask_law\n",
    "        gc.collect()\n",
    "\n",
    "    return attention_list, data_number_list"
   ]
  },
  {
   "cell_type": "code",
   "execution_count": 147,
   "metadata": {},
   "outputs": [],
   "source": [
    "def plot_attention(attention_list, x, y, data_number_list, label):\n",
    "    attentions = list()\n",
    "    for i in range(len(attention_list)):\n",
    "        attentions.append(attention_list[i][x][y])\n",
    "\n",
    "    fig, ax = plt.subplots()\n",
    "\n",
    "    ax.set_title(label+\" X:\"+str(x)+\" Y:\"+str(y))\n",
    "\n",
    "    ax.set_ylim(0, 1.1) # express y in range 0 to 1.1 \n",
    "\n",
    "    ax.set_xlabel('frame number')\n",
    "    ax.set_ylabel('attention')\n",
    "\n",
    "    ax.set_xticks(data_number_list)\n",
    "    ax.set_yticks([y*0.1 for y in range(0,11)])\n",
    "\n",
    "    ax.plot(data_number_list, attentions)\n",
    "\n",
    "    ax.grid()\n",
    "\n",
    "    fig.set_figwidth(2000/fig.dpi)\n",
    "    fig.set_figheight(700/fig.dpi)\n",
    "    fig.show()"
   ]
  },
  {
   "cell_type": "code",
   "execution_count": 148,
   "metadata": {},
   "outputs": [],
   "source": [
    "def plot_attention_range(attention_list, patch_index, data_number_list, label, save_file_name):\n",
    "    attention_dict = dict()\n",
    "    for index in patch_index:\n",
    "        x, y = index\n",
    "        attentions = list()\n",
    "        for i in range(len(attention_list)):\n",
    "            attentions.append(attention_list[i][x][y])\n",
    "        attention_dict[index] = attentions\n",
    "\n",
    "    fig, ax = plt.subplots()\n",
    "\n",
    "    ax.set_title(label)\n",
    "\n",
    "    ax.set_ylim(0, 1.1) # express y in range 0 to 1.1 \n",
    "\n",
    "    ax.set_xlabel('frame number')\n",
    "    ax.set_ylabel('attention')\n",
    "\n",
    "    ax.set_xticks(data_number_list)\n",
    "    ax.set_yticks([y*0.1 for y in range(0,11)])\n",
    "\n",
    "    for index in patch_index:\n",
    "        ax.plot(data_number_list, attention_dict[index], label=str(index))\n",
    "        ax.legend(loc='upper right')\n",
    "\n",
    "    ax.grid()\n",
    "\n",
    "    fig.set_figwidth(2000/fig.dpi)\n",
    "    fig.set_figheight(700/fig.dpi)\n",
    "    fig.savefig(save_file_name)\n",
    "\n",
    "    del attention_dict, attentions, fig, ax\n",
    "    gc.collect()"
   ]
  },
  {
   "attachments": {},
   "cell_type": "markdown",
   "metadata": {},
   "source": [
    "### Load Data Path"
   ]
  },
  {
   "cell_type": "code",
   "execution_count": 149,
   "metadata": {},
   "outputs": [],
   "source": [
    "# 285~325\n",
    "PATH_sample_data_TP_list = glob.glob(\"../../dataset/data_preprocessed/Vulner/21-12-01-11-41-59_end_extract_drive8/*\")\n",
    "\n",
    "# 300~350\n",
    "PATH_sample_data_TN_list = glob.glob(\"../../dataset/data_preprocessed/None-crash/21-12-01-11-07-44_end_extract_drive3/*\")\n",
    "\n",
    "# 95~115\n",
    "PATH_sample_data_FP_list = glob.glob(\"../../dataset/data_preprocessed/None-crash/21-12-29-11-04-19_end_extract_drive14/*\") \n",
    "\n",
    "# 290~305 -> start with 292\n",
    "PATH_sample_data_FN_list = glob.glob(\"../../dataset/data_preprocessed/Vulner/21-12-14-15-04-44_end_extract_drive2/*\") \n",
    "\n",
    "PATH_sample_data_TN_list = PATH_sample_data_TN_list[297:347+1]\n",
    "PATH_sample_data_FP_list = PATH_sample_data_FP_list[92:112+1]\n",
    "\n",
    "model = torch.load('../../model/model19.pt').cpu()"
   ]
  },
  {
   "attachments": {},
   "cell_type": "markdown",
   "metadata": {},
   "source": [
    "### Get Input"
   ]
  },
  {
   "cell_type": "code",
   "execution_count": 150,
   "metadata": {},
   "outputs": [],
   "source": [
    "patch_index = []\n",
    "for y in range(14):\n",
    "    tmp = []\n",
    "    for x in range(14):\n",
    "        tmp.append((x,y))\n",
    "    patch_index.append(tmp)"
   ]
  },
  {
   "cell_type": "code",
   "execution_count": 151,
   "metadata": {},
   "outputs": [],
   "source": [
    "patch_index_all = []\n",
    "for x in range(14):\n",
    "    for y in range(14):\n",
    "        patch_index_all.append((x,y))"
   ]
  },
  {
   "cell_type": "code",
   "execution_count": 152,
   "metadata": {},
   "outputs": [],
   "source": [
    "os.makedirs('output/TP', exist_ok=True)\n",
    "os.makedirs('output/TN', exist_ok=True)\n",
    "os.makedirs('output/FP', exist_ok=True)\n",
    "os.makedirs('output/FN', exist_ok=True)"
   ]
  },
  {
   "attachments": {},
   "cell_type": "markdown",
   "metadata": {},
   "source": [
    "### Generate Graph"
   ]
  },
  {
   "cell_type": "code",
   "execution_count": 153,
   "metadata": {},
   "outputs": [],
   "source": [
    "# attention_list_TP, data_number_list_TP = draw_img_TP(model=model, PATH_data_list=PATH_sample_data_TP_list, label='TP')\n",
    "# plot_attention_range(attention_list=attention_list_TP, patch_index=patch_index_all, data_number_list=data_number_list_TP, label='TP', save_file_name='output/TP/all.jpg')\n",
    "\n",
    "# attention_list_TN, data_number_list_TN = draw_img_TN(model=model, PATH_data_list=PATH_sample_data_TN_list, label='TN')\n",
    "# plot_attention_range(attention_list=attention_list_TN, patch_index=patch_index_all, data_number_list=data_number_list_TN, label='TN', save_file_name='output/TN/all.jpg')\n",
    "\n",
    "# attention_list_FP, data_number_list_FP = draw_img_FP(model=model, PATH_data_list=PATH_sample_data_FP_list, label='FP')\n",
    "# plot_attention_range(attention_list=attention_list_FP, patch_index=patch_index_all, data_number_list=data_number_list_FP, label='FP', save_file_name='output/FP/all.jpg')\n",
    "\n",
    "# attention_list_FN, data_number_list_FN = draw_img_FN(model=model, PATH_data_list=PATH_sample_data_FN_list, label='FN')\n",
    "# plot_attention_range(attention_list=attention_list_FN, patch_index=patch_index_all, data_number_list=data_number_list_FN, label='FN', save_file_name='output/FN/all.jpg')"
   ]
  },
  {
   "cell_type": "code",
   "execution_count": 154,
   "metadata": {},
   "outputs": [
    {
     "data": {
      "image/png": "[encoded data removed]",
      "text/plain": [
       "<Figure size 2000x700 with 1 Axes>"
      ]
     },
     "metadata": {
      "needs_background": "light"
     },
     "output_type": "display_data"
    }
   ],
   "source": [
    "i = 13\n",
    "\n",
    "# attention_list_TP, data_number_list_TP = draw_img_TP(model=model, PATH_data_list=PATH_sample_data_TP_list, label='TP')\n",
    "# plot_attention_range(attention_list=attention_list_TP, patch_index=patch_index[i], data_number_list=data_number_list_TP, label='TP', save_file_name='output/TP/'+str(i)+'.jpg')\n",
    "# del attention_list_TP, data_number_list_TP\n",
    "# gc.collect()\n",
    "\n",
    "# attention_list_TN, data_number_list_TN = draw_img_TN(model=model, PATH_data_list=PATH_sample_data_TN_list, label='TN')\n",
    "# plot_attention_range(attention_list=attention_list_TN, patch_index=patch_index[i], data_number_list=data_number_list_TN, label='TN', save_file_name='output/TN/'+str(i)+'.jpg')\n",
    "\n",
    "# attention_list_FP, data_number_list_FP = draw_img_FP(model=model, PATH_data_list=PATH_sample_data_FP_list, label='FP')\n",
    "# plot_attention_range(attention_list=attention_list_FP, patch_index=patch_index[i], data_number_list=data_number_list_FP, label='FP', save_file_name='output/FP/'+str(i)+'.jpg')\n",
    "\n",
    "attention_list_FN, data_number_list_FN = draw_img_FN(model=model, PATH_data_list=PATH_sample_data_FN_list, label='FN')\n",
    "plot_attention_range(attention_list=attention_list_FN, patch_index=patch_index[i], data_number_list=data_number_list_FN, label='FN', save_file_name='output/FN/'+str(i)+'.jpg')\n",
    "    "
   ]
  }
 ],
 "metadata": {
  "kernelspec": {
   "display_name": "vit",
   "language": "python",
   "name": "python3"
  },
  "language_info": {
   "codemirror_mode": {
    "name": "ipython",
    "version": 3
   },
   "file_extension": ".py",
   "mimetype": "text/x-python",
   "name": "python",
   "nbconvert_exporter": "python",
   "pygments_lexer": "ipython3",
   "version": "3.8.13 (default, Mar 28 2022, 06:59:08) [MSC v.1916 64 bit (AMD64)]"
  },
  "orig_nbformat": 4,
  "vscode": {
   "interpreter": {
    "hash": "d295846fd87ef922e6d55b2a4ce474aad62b0611de94fcaf8d499101fc8d41c3"
   }
  }
 },
 "nbformat": 4,
 "nbformat_minor": 2
}
