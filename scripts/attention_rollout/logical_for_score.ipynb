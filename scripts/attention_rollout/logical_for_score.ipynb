{
 "cells": [
  {
   "attachments": {},
   "cell_type": "markdown",
   "metadata": {},
   "source": [
    "# 전체 범위의 어텐션 스코어 저장 TO CSV (가감된 어텐션)\n",
    "TP, TN, FP, FN 4가지 상황에서 모든 패치의 어텐션을 CSV 파일로 저장합니다.\n",
    "\n",
    "14*14크기의 어텐션 맵에서 index는 가장 위쪽이 x가 0, 가장 왼쪽이 y가 0입니다."
   ]
  },
  {
   "attachments": {},
   "cell_type": "markdown",
   "metadata": {},
   "source": [
    "### Import Libraries"
   ]
  },
  {
   "cell_type": "code",
   "execution_count": 1,
   "metadata": {},
   "outputs": [],
   "source": [
    "import torch\n",
    "import numpy as np\n",
    "import pickle\n",
    "import matplotlib.pyplot as plt\n",
    "import glob\n",
    "import gc\n",
    "import os\n",
    "import time\n",
    "import pandas as pd\n",
    "\n",
    "from vit_rollout import VITAttentionRollout"
   ]
  },
  {
   "attachments": {},
   "cell_type": "markdown",
   "metadata": {},
   "source": [
    "### Definition"
   ]
  },
  {
   "cell_type": "code",
   "execution_count": 2,
   "metadata": {},
   "outputs": [],
   "source": [
    "def custom_attention_mask(label, mask):\n",
    "    custom_mask = mask\n",
    "\n",
    "    if label == 'TP':\n",
    "        # Edit attentions\n",
    "        for x in range(0, 13+1): # 차선 밖\n",
    "            for y in range(0, 3+1):\n",
    "                custom_mask[x][y] = custom_mask[x][y] * 0.5\n",
    "            for y in range(9, 13+1):\n",
    "                custom_mask[x][y] = custom_mask[x][y] * 0.5\n",
    "        \n",
    "        for x in range(0, 13+1): # 반대편 차선 가드레일\n",
    "            custom_mask[x][4] = custom_mask[x][4] * 0.35\n",
    "        \n",
    "        for x in range(0, 13+1): # 반대편 차선\n",
    "            custom_mask[x][5] = custom_mask[x][5] * 0.5\n",
    "\n",
    "        for x in range(8, 13+1): # Ego Vehicle 뒤\n",
    "            for y in range(6, 8+1):\n",
    "                custom_mask[x][y] = custom_mask[x][y] * 0.5\n",
    "\n",
    "        # 특이 지점\n",
    "        custom_mask[6][7] = custom_mask[6][7] * 0.3\n",
    "        custom_mask[7][6] = custom_mask[7][6] * 0.3\n",
    "        custom_mask[8][6] = custom_mask[8][6] * 0.3\n",
    "        custom_mask[9][6] = custom_mask[9][6] * 0.3\n",
    "\n",
    "\n",
    "    if label == 'TN':\n",
    "        # Edit attention\n",
    "        for x in range(0, 13+1): # 반대편 차선\n",
    "            for y in range(0, 4+1):\n",
    "                custom_mask[x][y] = custom_mask[x][y] * 0.5\n",
    "        \n",
    "        for x in range(0, 13+1): # 중앙분리대\n",
    "            custom_mask[x][5] = custom_mask[x][5] * 0.3\n",
    "\n",
    "        custom_mask[9][7] = custom_mask[9][7] * 0.05 # 특이지점\n",
    "\n",
    "        for x in range(7, 13+1): # Ego vehicle 뒤 차도\n",
    "            for y in range(6, 8+1):\n",
    "                custom_mask[x][y] = custom_mask[x][y] * 0.3\n",
    "\n",
    "        for x in range(0, 13+1): # 차도 밖\n",
    "            for y in range(9, 13+1):\n",
    "                custom_mask[x][y] = custom_mask[x][y] * 0.6\n",
    "\n",
    "\n",
    "    if label == 'FP':\n",
    "        # Edit attention\n",
    "        custom_mask[5][4] = custom_mask[5][4] * 0.2 # 특이지점\n",
    "\n",
    "\n",
    "    if label == 'FN':\n",
    "        # Edit attention\n",
    "        for x in range(0, 13+1): # 차도밖\n",
    "            for y in range(0, 3+1):\n",
    "                custom_mask[x][y] = custom_mask[x][y] * 0.15 \n",
    "            for y in range(9, 13+1):\n",
    "                custom_mask[x][y] = custom_mask[x][y] * 0.15\n",
    "\n",
    "        for x in range(0, 13+1): # 반대편 차선\n",
    "            for y in range(4, 5+1):\n",
    "                custom_mask[x][y] = custom_mask[x][y] * 0.2\n",
    "        \n",
    "        for x in range(8, 13+1): #Ego Vehicle 뒤\n",
    "            for y in range(6, 7+1):\n",
    "                custom_mask[x][y] = custom_mask[x][y] * 0.5\n",
    "\n",
    "\n",
    "    return custom_mask"
   ]
  },
  {
   "cell_type": "code",
   "execution_count": 3,
   "metadata": {},
   "outputs": [],
   "source": [
    "def save_attention_score_csv(model, PATH_data_list, label):\n",
    "    for PATH_data in PATH_data_list:\n",
    "        data_number = PATH_data.split('/')[-1].split('.')[0].split('\\\\')[-1]\n",
    "        \n",
    "        # Load data: using CPU\n",
    "        with open(PATH_data, 'rb') as f:\n",
    "            data = pickle.load(f)\n",
    "\n",
    "        input_tensor = data['tensor']\n",
    "        input_tensor = input_tensor.reshape((1,14,28,28))\n",
    "        input_tensor = input_tensor.to(torch.float32).cpu()\n",
    "\n",
    "        # Rollout attentions\n",
    "        attention_rollout = VITAttentionRollout(model, head_fusion='max', discard_ratio=0.90)\n",
    "        mask_law = attention_rollout(input_tensor) # (14, 14)\n",
    "\n",
    "        df = pd.DataFrame(custom_attention_mask(label=label, mask=mask_law))\n",
    "        df.to_csv(\"attention_score/\"+label+\"/\"+data_number+'.csv')"
   ]
  },
  {
   "attachments": {},
   "cell_type": "markdown",
   "metadata": {},
   "source": [
    "### Load Data Path"
   ]
  },
  {
   "cell_type": "code",
   "execution_count": 4,
   "metadata": {},
   "outputs": [],
   "source": [
    "# 285~325\n",
    "PATH_sample_data_TP_list = glob.glob(\"../../dataset/data_preprocessed/Vulner/21-12-01-11-41-59_end_extract_drive8/*\")\n",
    "\n",
    "# 300~350\n",
    "PATH_sample_data_TN_list = glob.glob(\"../../dataset/data_preprocessed/None-crash/21-12-01-11-07-44_end_extract_drive3/*\")\n",
    "\n",
    "# 95~115\n",
    "PATH_sample_data_FP_list = glob.glob(\"../../dataset/data_preprocessed/None-crash/21-12-29-11-04-19_end_extract_drive14/*\") \n",
    "\n",
    "# 290~305 -> start with 292\n",
    "PATH_sample_data_FN_list = glob.glob(\"../../dataset/data_preprocessed/Vulner/21-12-14-15-04-44_end_extract_drive2/*\") \n",
    "\n",
    "PATH_sample_data_TN_list = PATH_sample_data_TN_list[297:347+1]\n",
    "PATH_sample_data_FP_list = PATH_sample_data_FP_list[92:112+1]\n",
    "\n",
    "model = torch.load('../../model/model.pt').cpu()"
   ]
  },
  {
   "cell_type": "code",
   "execution_count": 5,
   "metadata": {},
   "outputs": [],
   "source": [
    "os.makedirs('attention_score/TP', exist_ok=True)\n",
    "os.makedirs('attention_score/TN', exist_ok=True)\n",
    "os.makedirs('attention_score/FP', exist_ok=True)\n",
    "os.makedirs('attention_score/FN', exist_ok=True)"
   ]
  },
  {
   "attachments": {},
   "cell_type": "markdown",
   "metadata": {},
   "source": [
    "### Save attention score to csv"
   ]
  },
  {
   "cell_type": "code",
   "execution_count": 6,
   "metadata": {},
   "outputs": [],
   "source": [
    "save_attention_score_csv(model=model, PATH_data_list=PATH_sample_data_TP_list, label='TP')\n",
    "save_attention_score_csv(model=model, PATH_data_list=PATH_sample_data_TN_list, label='TN')\n",
    "save_attention_score_csv(model=model, PATH_data_list=PATH_sample_data_FP_list, label='FP')\n",
    "save_attention_score_csv(model=model, PATH_data_list=PATH_sample_data_FN_list, label='FN')"
   ]
  }
 ],
 "metadata": {
  "kernelspec": {
   "display_name": "vit",
   "language": "python",
   "name": "python3"
  },
  "language_info": {
   "codemirror_mode": {
    "name": "ipython",
    "version": 3
   },
   "file_extension": ".py",
   "mimetype": "text/x-python",
   "name": "python",
   "nbconvert_exporter": "python",
   "pygments_lexer": "ipython3",
   "version": "3.8.13"
  },
  "orig_nbformat": 4,
  "vscode": {
   "interpreter": {
    "hash": "d295846fd87ef922e6d55b2a4ce474aad62b0611de94fcaf8d499101fc8d41c3"
   }
  }
 },
 "nbformat": 4,
 "nbformat_minor": 2
}
