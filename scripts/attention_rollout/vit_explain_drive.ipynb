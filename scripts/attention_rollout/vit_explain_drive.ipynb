{
 "cells": [
  {
   "attachments": {},
   "cell_type": "markdown",
   "metadata": {},
   "source": [
    "# Draw Attention maps(가감된 어텐션)"
   ]
  },
  {
   "cell_type": "code",
   "execution_count": 1,
   "metadata": {},
   "outputs": [],
   "source": [
    "import argparse\n",
    "import torch\n",
    "import numpy as np\n",
    "import matplotlib.pyplot as plt\n",
    "import cv2\n",
    "import pickle\n",
    "import glob\n",
    "\n",
    "from vit_rollout import VITAttentionRollout\n",
    "from vit_grad_rollout import VITAttentionGradRollout\n",
    "import vit_explain as vex"
   ]
  },
  {
   "attachments": {},
   "cell_type": "markdown",
   "metadata": {},
   "source": [
    "### Path Setting"
   ]
  },
  {
   "cell_type": "code",
   "execution_count": 6,
   "metadata": {},
   "outputs": [],
   "source": [
    "PATH_model = \"../../model/model.pt\"\n",
    "\n",
    "PATH_sample_data_TP_list = glob.glob(\"../../dataset/data_preprocessed/Vulner/21-12-01-11-41-59_end_extract_drive8/*\") # 285~325\n",
    "PATH_sample_data_TN_list = glob.glob(\"../../dataset/data_preprocessed/None-crash/21-12-01-11-07-44_end_extract_drive3/*\") # 300~350\n",
    "PATH_sample_data_FP_list = glob.glob(\"../../dataset/data_preprocessed/None-crash/21-12-29-11-04-19_end_extract_drive14/*\") # 95~115\n",
    "PATH_sample_data_FN_list = glob.glob(\"../../dataset/data_preprocessed/Vulner/21-12-14-15-04-44_end_extract_drive2/*\") # 290~305 -> start with 292\n",
    "\n",
    "PATH_sample_data_TN_list = PATH_sample_data_TN_list[297:347+1]\n",
    "PATH_sample_data_FP_list = PATH_sample_data_FP_list[92:112+1]"
   ]
  },
  {
   "attachments": {},
   "cell_type": "markdown",
   "metadata": {},
   "source": [
    "### Load Model"
   ]
  },
  {
   "cell_type": "code",
   "execution_count": null,
   "metadata": {},
   "outputs": [],
   "source": [
    "# using CPU\n",
    "model = torch.load(PATH_model)\n",
    "model.eval()\n",
    "model.cpu()"
   ]
  },
  {
   "attachments": {},
   "cell_type": "markdown",
   "metadata": {},
   "source": [
    "### Draw"
   ]
  },
  {
   "cell_type": "code",
   "execution_count": 8,
   "metadata": {},
   "outputs": [],
   "source": [
    "for data in PATH_sample_data_TP_list:\n",
    "    vex.draw_img_sample_custom(model=model, PATH_data=data)\n",
    "\n",
    "for data in PATH_sample_data_TN_list:\n",
    "    vex.draw_img_sample_custom(model=model, PATH_data=data)\n",
    "\n",
    "for data in PATH_sample_data_FP_list:\n",
    "    vex.draw_img_sample_custom(model=model, PATH_data=data)\n",
    "\n",
    "for data in PATH_sample_data_FN_list:\n",
    "    vex.draw_img_sample_custom(model=model, PATH_data=data)"
   ]
  }
 ],
 "metadata": {
  "kernelspec": {
   "display_name": "vit",
   "language": "python",
   "name": "python3"
  },
  "language_info": {
   "codemirror_mode": {
    "name": "ipython",
    "version": 3
   },
   "file_extension": ".py",
   "mimetype": "text/x-python",
   "name": "python",
   "nbconvert_exporter": "python",
   "pygments_lexer": "ipython3",
   "version": "3.8.13"
  },
  "orig_nbformat": 4,
  "vscode": {
   "interpreter": {
    "hash": "d295846fd87ef922e6d55b2a4ce474aad62b0611de94fcaf8d499101fc8d41c3"
   }
  }
 },
 "nbformat": 4,
 "nbformat_minor": 2
}
