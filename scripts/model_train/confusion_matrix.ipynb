{
 "cells": [
  {
   "cell_type": "code",
   "execution_count": null,
   "metadata": {},
   "outputs": [],
   "source": [
    "import pickle\n",
    "import numpy as np\n",
    "import torch"
   ]
  },
  {
   "cell_type": "code",
   "execution_count": null,
   "metadata": {},
   "outputs": [],
   "source": [
    "# Put your model path\n",
    "model = torch.load('model.pt', map_location='cpu')"
   ]
  },
  {
   "cell_type": "code",
   "execution_count": null,
   "metadata": {},
   "outputs": [],
   "source": [
    "with open('test_none_crash.pickle', 'rb') as f:\n",
    "\tnone_crash_test_list = pickle.load(f)\n",
    "\n",
    "with open('test_vulner.pickle', 'rb') as f:\n",
    "\tvulner_test_list = pickle.load(f)\n",
    "\t\n",
    "# ex) test_list[i]: \"../../dataset/data_preprocessed/None-crash\\21-12-01-11-07-44_end_extract_drive26\\00449.pickle\"\n",
    "test_list = none_crash_test_list + vulner_test_list"
   ]
  },
  {
   "cell_type": "code",
   "execution_count": null,
   "metadata": {},
   "outputs": [],
   "source": [
    "TP, FP, FN, TN = 0, 0, 0, 0\n",
    "TP_list = list()\n",
    "FP_list = list()\n",
    "FN_list = list()\n",
    "TN_list = list()\n",
    "\n",
    "print(\"#Test-data:\", len(test_list))\n",
    "\n",
    "for i in range(len(test_list)):\n",
    "    with open(test_list[i], \"rb\") as fr:\n",
    "        tmp_data = pickle.load(fr)\n",
    "\n",
    "    test_label = tmp_data['label']\n",
    "    if test_label == \"None-crash\":\n",
    "        test_label = 0\n",
    "    else:\n",
    "        test_label = 1\n",
    "\n",
    "    # Make tensor as input of model\n",
    "    test_tensor = np.asarray(tmp_data['tensor'])\n",
    "    test_tensor = np.asarray([test_tensor])\n",
    "    test_tensor = torch.from_numpy(test_tensor)\n",
    "    test_tensor = test_tensor.to(torch.float32).cpu()\n",
    "\n",
    "    pred = model(test_tensor)\n",
    "    if pred[0][0] > pred[0][1]:\n",
    "        pred_idx = 0\n",
    "    elif pred[0][0] < pred[0][1]:\n",
    "        pred_idx = 1\n",
    "    else:\n",
    "        assert pred[0][0] == pred[0][1], 'Same class score'\n",
    "\n",
    "    if pred_idx == 1 and test_label == 1:\n",
    "        TP += 1\n",
    "        TP_list.append(test_list[i])\n",
    "    elif pred_idx == 1 and test_label == 0:\n",
    "        FP += 1\n",
    "        FP_list.append(test_list[i])\n",
    "    elif pred_idx == 0 and test_label == 1:\n",
    "        FN += 1\n",
    "        FN_list.append(test_list[i])\n",
    "    elif pred_idx == 0 and test_label == 0:\n",
    "        TN += 1\n",
    "        TN_list.append(test_list[i])"
   ]
  },
  {
   "cell_type": "code",
   "execution_count": null,
   "metadata": {},
   "outputs": [],
   "source": [
    "acc = (TP+TN)/(TP+TN+FP+FN)\n",
    "spec = (TN/(FP+TN))\n",
    "prec = (TP/(TP+FP))\n",
    "recall = (TP/(TP+FN))\n",
    "\n",
    "print(\"TP:\", len(TP_list))\n",
    "print(\"TN:\", len(TN_list))\n",
    "print(\"FP:\", len(FP_list))\n",
    "print(\"FN:\", len(FN_list))\n",
    "\n",
    "print(\"Accuracy:\", acc)\n",
    "print(\"Specificity:\", spec)\n",
    "print(\"Precision:\", prec)\n",
    "print(\"Recall:\", recall)\n",
    "print(\"F1 Score:\", (2*prec*recall/(prec+recall)))"
   ]
  },
  {
   "attachments": {},
   "cell_type": "markdown",
   "metadata": {},
   "source": [
    "### TP, TN, FP, FN이 어떤 파일인지 확인하려면 아래를 실행 시키세요."
   ]
  },
  {
   "cell_type": "code",
   "execution_count": null,
   "metadata": {},
   "outputs": [],
   "source": [
    "print(\"TP\")\n",
    "for tp in TP_list:\n",
    "    print(tp)"
   ]
  },
  {
   "cell_type": "code",
   "execution_count": null,
   "metadata": {},
   "outputs": [],
   "source": [
    "print(\"TN\")\n",
    "for tn in TN_list:\n",
    "    print(tn)"
   ]
  },
  {
   "cell_type": "code",
   "execution_count": null,
   "metadata": {},
   "outputs": [],
   "source": [
    "print(\"FP\")\n",
    "for fp in FP_list:\n",
    "    print(fp)"
   ]
  },
  {
   "cell_type": "code",
   "execution_count": null,
   "metadata": {},
   "outputs": [],
   "source": [
    "print(\"FN\")\n",
    "for fn in FN_list:\n",
    "    print(fn)"
   ]
  }
 ],
 "metadata": {
  "language_info": {
   "name": "python"
  },
  "orig_nbformat": 4
 },
 "nbformat": 4,
 "nbformat_minor": 2
}
