{
 "cells": [
  {
   "cell_type": "markdown",
   "metadata": {},
   "source": [
    "## Import Libraries"
   ]
  },
  {
   "cell_type": "code",
   "execution_count": 18,
   "metadata": {},
   "outputs": [],
   "source": [
    "from __future__ import print_function\n",
    "\n",
    "import glob\n",
    "import os\n",
    "import random\n",
    "import pickle\n",
    "\n",
    "import numpy as np\n",
    "import torch\n",
    "\n",
    "from sklearn.model_selection import train_test_split"
   ]
  },
  {
   "cell_type": "code",
   "execution_count": 19,
   "metadata": {},
   "outputs": [],
   "source": [
    "seed = 42"
   ]
  },
  {
   "cell_type": "code",
   "execution_count": 20,
   "metadata": {},
   "outputs": [],
   "source": [
    "def seed_everything(seed):\n",
    "    random.seed(seed)\n",
    "    os.environ['PYTHONHASHSEED'] = str(seed)\n",
    "    np.random.seed(seed)\n",
    "    torch.manual_seed(seed)\n",
    "    torch.cuda.manual_seed(seed)\n",
    "    torch.cuda.manual_seed_all(seed)\n",
    "    torch.backends.cudnn.deterministic = True\n",
    "\n",
    "seed_everything(seed)"
   ]
  },
  {
   "cell_type": "markdown",
   "metadata": {},
   "source": [
    "## Load Data"
   ]
  },
  {
   "cell_type": "code",
   "execution_count": 21,
   "metadata": {},
   "outputs": [],
   "source": [
    "# Setting of preprocessed data path\n",
    "PATH_none_crash_prep = '../../dataset/data_preprocessed/None-crash'\n",
    "PATH_vulner_prep = '../../dataset/data_preprocessed/Vulner'\n",
    "\n",
    "none_crash_drive_list = glob.glob(PATH_none_crash_prep + \"/*\")\n",
    "vulner_drive_list = glob.glob(PATH_vulner_prep + \"/*\")"
   ]
  },
  {
   "cell_type": "code",
   "execution_count": 22,
   "metadata": {},
   "outputs": [],
   "source": [
    "none_crash_data_list = list()\n",
    "vulner_data_list = list()\n",
    "\n",
    "for PATH_drive in none_crash_drive_list:\n",
    "    none_crash_data_list += glob.glob(PATH_drive + \"/*\")\n",
    "\n",
    "for PATH_drive in vulner_drive_list:\n",
    "    vulner_data_list += glob.glob(PATH_drive + \"/*\")"
   ]
  },
  {
   "cell_type": "code",
   "execution_count": 23,
   "metadata": {},
   "outputs": [
    {
     "name": "stdout",
     "output_type": "stream",
     "text": [
      "Number of Drives\n",
      "None-crash: 51\n",
      "Vulner: 91\n",
      "None-crash: 30498\n",
      "Vulner: 3788\n"
     ]
    }
   ],
   "source": [
    "print(\"Number of Drives\")\n",
    "print(\"None-crash:\", len(none_crash_drive_list))\n",
    "print(\"Vulner:\", len(vulner_drive_list))\n",
    "\n",
    "print(f\"None-crash: {len(none_crash_data_list)}\")\n",
    "print(f\"Vulner: {len(vulner_data_list)}\")"
   ]
  },
  {
   "cell_type": "markdown",
   "metadata": {},
   "source": [
    "### Split data into Train & Test"
   ]
  },
  {
   "cell_type": "code",
   "execution_count": 24,
   "metadata": {},
   "outputs": [],
   "source": [
    "none_crash_labels = ['None-crash' for _ in none_crash_data_list]\n",
    "vulner_labels = ['Vulner' for _ in vulner_data_list]"
   ]
  },
  {
   "cell_type": "code",
   "execution_count": 25,
   "metadata": {},
   "outputs": [],
   "source": [
    "none_crash_train_list, none_crash_test_list = train_test_split(none_crash_data_list, \n",
    "                                                                test_size=0.1,\n",
    "                                                                stratify=none_crash_labels,\n",
    "                                                                random_state=seed)\n",
    "\n",
    "vulner_train_list, vulner_test_list = train_test_split(vulner_data_list, \n",
    "                                                        test_size=0.1,\n",
    "                                                        stratify=vulner_labels,\n",
    "                                                        random_state=seed)"
   ]
  },
  {
   "cell_type": "code",
   "execution_count": 26,
   "metadata": {},
   "outputs": [
    {
     "name": "stdout",
     "output_type": "stream",
     "text": [
      "Train None-crash: 27448\n",
      "Test None-crash: 3050\n",
      "Train Vulner: 3409\n",
      "Test Vulner: 379\n"
     ]
    }
   ],
   "source": [
    "print(\"Train None-crash:\", len(none_crash_train_list))\n",
    "print(\"Test None-crash:\", len(none_crash_test_list))\n",
    "print(\"Train Vulner:\", len(vulner_train_list))\n",
    "print(\"Test Vulner:\", len(vulner_test_list))"
   ]
  },
  {
   "attachments": {},
   "cell_type": "markdown",
   "metadata": {},
   "source": [
    "# Save splited data"
   ]
  },
  {
   "cell_type": "code",
   "execution_count": 27,
   "metadata": {},
   "outputs": [],
   "source": [
    "with open('train_none_crash.pickle', 'wb') as f:\n",
    "\tpickle.dump(none_crash_train_list, f, pickle.HIGHEST_PROTOCOL)\n",
    "\t\n",
    "with open('test_none_crash.pickle', 'wb') as f:\n",
    "\tpickle.dump(none_crash_test_list, f, pickle.HIGHEST_PROTOCOL)\n",
    "\t\n",
    "with open('train_vulner.pickle', 'wb') as f:\n",
    "\tpickle.dump(vulner_train_list, f, pickle.HIGHEST_PROTOCOL)\n",
    "\t\n",
    "with open('test_vulner.pickle', 'wb') as f:\n",
    "\tpickle.dump(vulner_test_list, f, pickle.HIGHEST_PROTOCOL)"
   ]
  }
 ],
 "metadata": {
  "kernelspec": {
   "display_name": "Python 3.8.13 ('vit')",
   "language": "python",
   "name": "python3"
  },
  "language_info": {
   "codemirror_mode": {
    "name": "ipython",
    "version": 3
   },
   "file_extension": ".py",
   "mimetype": "text/x-python",
   "name": "python",
   "nbconvert_exporter": "python",
   "pygments_lexer": "ipython3",
   "version": "3.8.13"
  },
  "orig_nbformat": 4,
  "vscode": {
   "interpreter": {
    "hash": "d295846fd87ef922e6d55b2a4ce474aad62b0611de94fcaf8d499101fc8d41c3"
   }
  }
 },
 "nbformat": 4,
 "nbformat_minor": 2
}
