{
 "cells": [
  {
   "cell_type": "markdown",
   "metadata": {},
   "source": [
    "## Import Libraries"
   ]
  },
  {
   "cell_type": "code",
   "execution_count": 1,
   "metadata": {},
   "outputs": [],
   "source": [
    "from __future__ import print_function\n",
    "\n",
    "import glob\n",
    "from itertools import chain\n",
    "import os\n",
    "import random\n",
    "import zipfile\n",
    "import pickle\n",
    "\n",
    "import matplotlib.pyplot as plt\n",
    "import numpy as np\n",
    "import pandas as pd\n",
    "import torch\n",
    "import torch.nn as nn\n",
    "import torch.nn.functional as F\n",
    "import torch.optim as optim\n",
    "from linformer import Linformer\n",
    "from PIL import Image\n",
    "from sklearn.model_selection import train_test_split\n",
    "from torch.optim.lr_scheduler import StepLR\n",
    "from torch.utils.data import DataLoader, Dataset\n",
    "from torchvision import datasets, transforms\n",
    "from tqdm.notebook import tqdm\n",
    "\n",
    "from vit_pytorch.vit import ViT"
   ]
  },
  {
   "cell_type": "code",
   "execution_count": 2,
   "metadata": {},
   "outputs": [
    {
     "name": "stdout",
     "output_type": "stream",
     "text": [
      "Torch: 1.11.0\n"
     ]
    }
   ],
   "source": [
    "print(f\"Torch: {torch.__version__}\")"
   ]
  },
  {
   "cell_type": "code",
   "execution_count": 3,
   "metadata": {},
   "outputs": [],
   "source": [
    "# Training settings\n",
    "batch_size = 16\n",
    "epochs = 30\n",
    "lr = 3e-5\n",
    "gamma = 0.7\n",
    "seed = 42"
   ]
  },
  {
   "cell_type": "code",
   "execution_count": 4,
   "metadata": {},
   "outputs": [],
   "source": [
    "def seed_everything(seed):\n",
    "    random.seed(seed)\n",
    "    os.environ['PYTHONHASHSEED'] = str(seed)\n",
    "    np.random.seed(seed)\n",
    "    torch.manual_seed(seed)\n",
    "    torch.cuda.manual_seed(seed)\n",
    "    torch.cuda.manual_seed_all(seed)\n",
    "    torch.backends.cudnn.deterministic = True\n",
    "\n",
    "seed_everything(seed)"
   ]
  },
  {
   "cell_type": "code",
   "execution_count": 5,
   "metadata": {},
   "outputs": [],
   "source": [
    "device = 'cuda'"
   ]
  },
  {
   "cell_type": "markdown",
   "metadata": {},
   "source": [
    "## Load Data"
   ]
  },
  {
   "cell_type": "code",
   "execution_count": 6,
   "metadata": {},
   "outputs": [],
   "source": [
    "PATH_none_crash_prep = '../../dataset/data_preprocessed/None-crash'\n",
    "PATH_vulner_prep = '../../dataset/data_preprocessed/Vulner'\n",
    "\n",
    "none_crash_drive_list = glob.glob(PATH_none_crash_prep + \"/*\")\n",
    "vulner_drive_list = glob.glob(PATH_vulner_prep + \"/*\")"
   ]
  },
  {
   "cell_type": "code",
   "execution_count": 7,
   "metadata": {},
   "outputs": [],
   "source": [
    "none_crash_data_list = list()\n",
    "vulner_data_list = list()\n",
    "\n",
    "for PATH_drive in none_crash_drive_list:\n",
    "    none_crash_data_list += glob.glob(PATH_drive + \"/*\")\n",
    "\n",
    "for PATH_drive in vulner_drive_list:\n",
    "    vulner_data_list += glob.glob(PATH_drive + \"/*\")"
   ]
  },
  {
   "cell_type": "code",
   "execution_count": 8,
   "metadata": {},
   "outputs": [
    {
     "name": "stdout",
     "output_type": "stream",
     "text": [
      "None-crash: 30498\n",
      "Vulner: 3788\n"
     ]
    }
   ],
   "source": [
    "print(f\"None-crash: {len(none_crash_data_list)}\")\n",
    "print(f\"Vulner: {len(vulner_data_list)}\")"
   ]
  },
  {
   "cell_type": "code",
   "execution_count": 9,
   "metadata": {},
   "outputs": [],
   "source": [
    "none_crash_labels = ['None-crash' for _ in none_crash_data_list]\n",
    "vulner_labels = ['Vulner' for _ in vulner_data_list]"
   ]
  },
  {
   "cell_type": "code",
   "execution_count": 10,
   "metadata": {},
   "outputs": [],
   "source": [
    "none_crash_train_list, none_crash_test_list = train_test_split(none_crash_data_list, \n",
    "                                                                test_size=0.1,\n",
    "                                                                stratify=none_crash_labels,\n",
    "                                                                random_state=seed)\n",
    "\n",
    "vulner_train_list, vulner_test_list = train_test_split(vulner_data_list, \n",
    "                                                        test_size=0.1,\n",
    "                                                        stratify=vulner_labels,\n",
    "                                                        random_state=seed)"
   ]
  },
  {
   "cell_type": "code",
   "execution_count": 11,
   "metadata": {},
   "outputs": [
    {
     "name": "stdout",
     "output_type": "stream",
     "text": [
      "27448\n",
      "3050\n",
      "3409\n",
      "379\n"
     ]
    }
   ],
   "source": [
    "print(len(none_crash_train_list))\n",
    "print(len(none_crash_test_list))\n",
    "print(len(vulner_train_list))\n",
    "print(len(vulner_test_list))"
   ]
  },
  {
   "cell_type": "code",
   "execution_count": 12,
   "metadata": {},
   "outputs": [],
   "source": [
    "# ex) train_list[i]: \"../../dataset/data_preprocessed/None-crash\\21-12-01-11-07-44_end_extract_drive26\\00449.pickle\"\n",
    "train_list = none_crash_train_list + vulner_train_list\n",
    "test_list = none_crash_test_list + vulner_test_list\n",
    "\n",
    "random.shuffle(train_list)\n",
    "random.shuffle(test_list)"
   ]
  },
  {
   "cell_type": "code",
   "execution_count": 20,
   "metadata": {},
   "outputs": [
    {
     "data": {
      "text/plain": [
       "'../../dataset/data_preprocessed/None-crash\\\\21-12-01-14-54-56_end_extract_drive17\\\\00431.pickle'"
      ]
     },
     "execution_count": 20,
     "metadata": {},
     "output_type": "execute_result"
    }
   ],
   "source": [
    "test_list[200]"
   ]
  },
  {
   "cell_type": "code",
   "execution_count": 14,
   "metadata": {},
   "outputs": [],
   "source": [
    "train_labels = [path.split('/')[4].split('\\\\')[0] for path in train_list]"
   ]
  },
  {
   "cell_type": "code",
   "execution_count": 15,
   "metadata": {},
   "outputs": [],
   "source": [
    "train_list, valid_list = train_test_split(train_list, \n",
    "                                          test_size=0.2,\n",
    "                                          stratify=train_labels,\n",
    "                                          random_state=seed)"
   ]
  },
  {
   "cell_type": "code",
   "execution_count": 16,
   "metadata": {},
   "outputs": [
    {
     "name": "stdout",
     "output_type": "stream",
     "text": [
      "Train Data: 24685\n",
      "Validation Data: 6172\n",
      "Test Data: 3429\n"
     ]
    }
   ],
   "source": [
    "print(f\"Train Data: {len(train_list)}\")\n",
    "print(f\"Validation Data: {len(valid_list)}\")\n",
    "print(f\"Test Data: {len(test_list)}\")"
   ]
  },
  {
   "cell_type": "markdown",
   "metadata": {},
   "source": [
    "## Load Dataset"
   ]
  },
  {
   "cell_type": "code",
   "execution_count": 27,
   "metadata": {},
   "outputs": [],
   "source": [
    "class lidar_dataset(Dataset):\n",
    "    def __init__(self, file_list):\n",
    "        self.file_list = file_list # 파일명이 들어가야 함\n",
    "\n",
    "    def __len__(self):\n",
    "        self.filelength = len(self.file_list)\n",
    "        return self.filelength\n",
    "\n",
    "    def __getitem__(self, idx):\n",
    "        lidar_path = self.file_list[idx]\n",
    "        \n",
    "        with open(lidar_path,\"rb\") as fr:\n",
    "            data = pickle.load(fr)\n",
    "\n",
    "        tensor = data['tensor']\n",
    "        if data['label'] == 'None-crash':  \n",
    "            label = 0\n",
    "        else:\n",
    "            label = 1\n",
    "            \n",
    "        return tensor, label"
   ]
  },
  {
   "cell_type": "code",
   "execution_count": 28,
   "metadata": {},
   "outputs": [],
   "source": [
    "train_data = lidar_dataset(train_list)\n",
    "valid_data = lidar_dataset(valid_list)\n",
    "test_data = lidar_dataset(test_list)"
   ]
  },
  {
   "cell_type": "code",
   "execution_count": 29,
   "metadata": {},
   "outputs": [],
   "source": [
    "train_loader = DataLoader(dataset = train_data, batch_size=batch_size, shuffle=True)\n",
    "valid_loader = DataLoader(dataset = valid_data, batch_size=batch_size, shuffle=True)\n",
    "test_loader = DataLoader(dataset = test_data, batch_size=batch_size, shuffle=True)"
   ]
  },
  {
   "cell_type": "code",
   "execution_count": 30,
   "metadata": {},
   "outputs": [
    {
     "name": "stdout",
     "output_type": "stream",
     "text": [
      "24685 1543\n"
     ]
    }
   ],
   "source": [
    "print(len(train_data), len(train_loader))"
   ]
  },
  {
   "cell_type": "code",
   "execution_count": 31,
   "metadata": {},
   "outputs": [
    {
     "name": "stdout",
     "output_type": "stream",
     "text": [
      "6172 386\n"
     ]
    }
   ],
   "source": [
    "print(len(valid_data), len(valid_loader))"
   ]
  },
  {
   "cell_type": "markdown",
   "metadata": {},
   "source": [
    "## Effecient Attention"
   ]
  },
  {
   "cell_type": "markdown",
   "metadata": {},
   "source": [
    "### Load Model\n"
   ]
  },
  {
   "cell_type": "code",
   "execution_count": 32,
   "metadata": {},
   "outputs": [],
   "source": [
    "PATH_model = \"../../model/model19.pt\"\n",
    "model = torch.load(PATH_model)"
   ]
  },
  {
   "cell_type": "markdown",
   "metadata": {},
   "source": [
    "### Confusion Matrix"
   ]
  },
  {
   "cell_type": "code",
   "execution_count": 40,
   "metadata": {},
   "outputs": [
    {
     "name": "stdout",
     "output_type": "stream",
     "text": [
      "#Test-data: 3429\n",
      "0\n",
      "50\n",
      "100\n",
      "150\n",
      "200\n",
      "250\n",
      "300\n",
      "350\n",
      "400\n",
      "450\n",
      "500\n",
      "550\n",
      "600\n",
      "650\n",
      "700\n",
      "750\n",
      "800\n",
      "850\n",
      "900\n",
      "950\n",
      "1000\n",
      "1050\n",
      "1100\n",
      "1150\n",
      "1200\n",
      "1250\n",
      "1300\n",
      "1350\n",
      "1400\n",
      "1450\n",
      "1500\n",
      "1550\n",
      "1600\n",
      "1650\n",
      "1700\n",
      "1750\n",
      "1800\n",
      "1850\n",
      "1900\n",
      "1950\n",
      "2000\n",
      "2050\n",
      "2100\n",
      "2150\n",
      "2200\n",
      "2250\n",
      "2300\n",
      "2350\n",
      "2400\n",
      "2450\n",
      "2500\n",
      "2550\n",
      "2600\n",
      "2650\n",
      "2700\n",
      "2750\n",
      "2800\n",
      "2850\n",
      "2900\n",
      "2950\n",
      "3000\n",
      "3050\n",
      "3100\n",
      "3150\n",
      "3200\n",
      "3250\n",
      "3300\n",
      "3350\n",
      "3400\n"
     ]
    }
   ],
   "source": [
    "TP, FP, FN, TN = 0, 0, 0, 0\n",
    "FN_list = list()\n",
    "FP_list = list()\n",
    "\n",
    "print(\"#Test-data:\", len(test_list))\n",
    "\n",
    "for i in range(len(test_list)):\n",
    "    if i%50 == 0: print(i)\n",
    "\n",
    "    with open(test_list[i],\"rb\") as fr:\n",
    "        tmp_data = pickle.load(fr)\n",
    "\n",
    "    test_label = tmp_data['label']\n",
    "    if test_label == \"None-crash\":\n",
    "        test_label = 0\n",
    "    else:\n",
    "        test_label = 1\n",
    "    test_tensor = np.asarray(tmp_data['tensor'])\n",
    "    test_tensor = np.asarray([test_tensor])\n",
    "    test_tensor = torch.from_numpy(test_tensor)\n",
    "    test_tensor = test_tensor.to(torch.float32).cuda()\n",
    "\n",
    "    pred = model(test_tensor)\n",
    "    if pred[0][0] > pred[0][1]:\n",
    "        pred_idx = 0\n",
    "    elif pred[0][0] < pred[0][1]:\n",
    "        pred_idx = 1\n",
    "    else:\n",
    "        assert pred[0][0] == pred[0][1], 'Same class score'\n",
    "\n",
    "    if pred_idx == 1 and test_label == 1:\n",
    "        TP += 1\n",
    "    elif pred_idx == 1 and test_label == 0:\n",
    "        FP += 1\n",
    "        FP_list.append(test_list[i])\n",
    "    elif pred_idx == 0 and test_label == 1:\n",
    "        FN += 1\n",
    "        FN_list.append(test_list[i])\n",
    "    elif pred_idx == 0 and test_label == 0:\n",
    "        TN += 1"
   ]
  },
  {
   "cell_type": "code",
   "execution_count": 41,
   "metadata": {},
   "outputs": [
    {
     "name": "stdout",
     "output_type": "stream",
     "text": [
      "369 3 10 3047\n"
     ]
    }
   ],
   "source": [
    "print(TP, FP, FN, TN)"
   ]
  },
  {
   "cell_type": "code",
   "execution_count": 44,
   "metadata": {},
   "outputs": [
    {
     "name": "stdout",
     "output_type": "stream",
     "text": [
      "../../dataset/data_preprocessed/None-crash\\21-12-01-11-07-44_end_extract_drive19\\00025.pickle\n",
      "../../dataset/data_preprocessed/None-crash\\21-12-29-11-04-19_end_extract_drive14\\00108.pickle\n",
      "../../dataset/data_preprocessed/None-crash\\21-12-01-11-07-44_end_extract_drive26\\00317.pickle\n"
     ]
    }
   ],
   "source": [
    "for ss in FP_list:\n",
    "    print(ss)"
   ]
  },
  {
   "cell_type": "code",
   "execution_count": 45,
   "metadata": {},
   "outputs": [
    {
     "name": "stdout",
     "output_type": "stream",
     "text": [
      "../../dataset/data_preprocessed/Vulner\\21-12-30-15-25-54_end_extract_drive5\\00287.pickle\n",
      "../../dataset/data_preprocessed/Vulner\\22-01-13-11-54-40_end_extract_drive2\\00288.pickle\n",
      "../../dataset/data_preprocessed/Vulner\\21-12-20-14-47-47_end_extract_drive7\\00298.pickle\n",
      "../../dataset/data_preprocessed/Vulner\\21-12-06-15-48-11_end_extract_drive2\\00290.pickle\n",
      "../../dataset/data_preprocessed/Vulner\\21-12-14-15-04-44_end_extract_drive2\\00301.pickle\n",
      "../../dataset/data_preprocessed/Vulner\\21-12-06-10-41-51_end_extract_drive4\\00291.pickle\n",
      "../../dataset/data_preprocessed/Vulner\\22-01-13-16-14-44_end_extract_drive3\\00304.pickle\n",
      "../../dataset/data_preprocessed/Vulner\\21-12-01-15-33-47_end_extract_drive4\\00222.pickle\n",
      "../../dataset/data_preprocessed/Vulner\\21-12-30-15-25-54_end_extract_drive5\\00304.pickle\n",
      "../../dataset/data_preprocessed/Vulner\\21-12-14-15-04-44_end_extract_drive2\\00302.pickle\n"
     ]
    }
   ],
   "source": [
    "for ss in FN_list:\n",
    "    print(ss)"
   ]
  },
  {
   "cell_type": "code",
   "execution_count": 33,
   "metadata": {},
   "outputs": [
    {
     "name": "stdout",
     "output_type": "stream",
     "text": [
      "Recall: 0.9736147757255936\n",
      "Precision: 0.9919354838709677\n",
      "Accuracy: 0.9962088072324293\n"
     ]
    }
   ],
   "source": [
    "print(\"Recall:\", TP/(TP+FN))\n",
    "print(\"Precision:\", TP/(TP+FP))\n",
    "print(\"Accuracy:\", (TP+TN)/(TP + FP + FN + TN))"
   ]
  }
 ],
 "metadata": {
  "kernelspec": {
   "display_name": "Python 3.8.13 ('vit')",
   "language": "python",
   "name": "python3"
  },
  "language_info": {
   "codemirror_mode": {
    "name": "ipython",
    "version": 3
   },
   "file_extension": ".py",
   "mimetype": "text/x-python",
   "name": "python",
   "nbconvert_exporter": "python",
   "pygments_lexer": "ipython3",
   "version": "3.8.13"
  },
  "orig_nbformat": 4,
  "vscode": {
   "interpreter": {
    "hash": "d295846fd87ef922e6d55b2a4ce474aad62b0611de94fcaf8d499101fc8d41c3"
   }
  }
 },
 "nbformat": 4,
 "nbformat_minor": 2
}
