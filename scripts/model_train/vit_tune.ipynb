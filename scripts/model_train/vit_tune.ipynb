{
 "cells": [
  {
   "cell_type": "markdown",
   "metadata": {},
   "source": [
    "## Import Libraries"
   ]
  },
  {
   "cell_type": "code",
   "execution_count": 1,
   "metadata": {},
   "outputs": [],
   "source": [
    "from __future__ import print_function\n",
    "\n",
    "import glob\n",
    "from itertools import chain\n",
    "import os\n",
    "import random\n",
    "import zipfile\n",
    "import pickle\n",
    "\n",
    "import matplotlib.pyplot as plt\n",
    "import numpy as np\n",
    "import pandas as pd\n",
    "import torch\n",
    "import torch.nn as nn\n",
    "import torch.nn.functional as F\n",
    "import torch.optim as optim\n",
    "from linformer import Linformer\n",
    "from PIL import Image\n",
    "from sklearn.model_selection import train_test_split\n",
    "from torch.optim.lr_scheduler import StepLR\n",
    "from torch.utils.data import DataLoader, Dataset\n",
    "from torchvision import datasets, transforms\n",
    "from tqdm.notebook import tqdm\n",
    "\n",
    "from vit_pytorch.vit import ViT"
   ]
  },
  {
   "cell_type": "code",
   "execution_count": 2,
   "metadata": {},
   "outputs": [
    {
     "name": "stdout",
     "output_type": "stream",
     "text": [
      "Torch: 1.11.0\n"
     ]
    }
   ],
   "source": [
    "print(f\"Torch: {torch.__version__}\")"
   ]
  },
  {
   "cell_type": "code",
   "execution_count": 3,
   "metadata": {},
   "outputs": [],
   "source": [
    "# Training settings\n",
    "batch_size = 16\n",
    "epochs = 1\n",
    "lr = 3e-5\n",
    "gamma = 0.7\n",
    "seed = 42"
   ]
  },
  {
   "cell_type": "code",
   "execution_count": 4,
   "metadata": {},
   "outputs": [],
   "source": [
    "def seed_everything(seed):\n",
    "    random.seed(seed)\n",
    "    os.environ['PYTHONHASHSEED'] = str(seed)\n",
    "    np.random.seed(seed)\n",
    "    torch.manual_seed(seed)\n",
    "    torch.cuda.manual_seed(seed)\n",
    "    torch.cuda.manual_seed_all(seed)\n",
    "    torch.backends.cudnn.deterministic = True\n",
    "\n",
    "seed_everything(seed)"
   ]
  },
  {
   "cell_type": "code",
   "execution_count": 5,
   "metadata": {},
   "outputs": [],
   "source": [
    "device = 'cuda'"
   ]
  },
  {
   "cell_type": "markdown",
   "metadata": {},
   "source": [
    "## Load Data"
   ]
  },
  {
   "cell_type": "code",
   "execution_count": 6,
   "metadata": {},
   "outputs": [],
   "source": [
    "# Setting of preprocessed data path\n",
    "PATH_none_crash_prep = '../../dataset/data_preprocessed/None-crash'\n",
    "PATH_vulner_prep = '../../dataset/data_preprocessed/Vulner'\n",
    "\n",
    "none_crash_drive_list = glob.glob(PATH_none_crash_prep + \"/*\")\n",
    "vulner_drive_list = glob.glob(PATH_vulner_prep + \"/*\")"
   ]
  },
  {
   "cell_type": "code",
   "execution_count": 7,
   "metadata": {},
   "outputs": [],
   "source": [
    "none_crash_data_list = list()\n",
    "vulner_data_list = list()\n",
    "\n",
    "for PATH_drive in none_crash_drive_list:\n",
    "    none_crash_data_list += glob.glob(PATH_drive + \"/*\")\n",
    "\n",
    "for PATH_drive in vulner_drive_list:\n",
    "    vulner_data_list += glob.glob(PATH_drive + \"/*\")"
   ]
  },
  {
   "cell_type": "code",
   "execution_count": 9,
   "metadata": {},
   "outputs": [
    {
     "name": "stdout",
     "output_type": "stream",
     "text": [
      "Number of Drives\n",
      "None-crash: 51\n",
      "Vulner: 91\n",
      "None-crash: 30498\n",
      "Vulner: 3788\n"
     ]
    }
   ],
   "source": [
    "print(\"Number of Drives\")\n",
    "print(\"None-crash:\", len(none_crash_drive_list))\n",
    "print(\"Vulner:\", len(vulner_drive_list))\n",
    "\n",
    "print(f\"None-crash: {len(none_crash_data_list)}\")\n",
    "print(f\"Vulner: {len(vulner_data_list)}\")"
   ]
  },
  {
   "cell_type": "markdown",
   "metadata": {},
   "source": [
    "### Split data into Train & Test"
   ]
  },
  {
   "cell_type": "code",
   "execution_count": 10,
   "metadata": {},
   "outputs": [],
   "source": [
    "none_crash_labels = ['None-crash' for _ in none_crash_data_list]\n",
    "vulner_labels = ['Vulner' for _ in vulner_data_list]"
   ]
  },
  {
   "cell_type": "code",
   "execution_count": 11,
   "metadata": {},
   "outputs": [],
   "source": [
    "none_crash_train_list, none_crash_test_list = train_test_split(none_crash_data_list, \n",
    "                                                                test_size=0.1,\n",
    "                                                                stratify=none_crash_labels,\n",
    "                                                                random_state=seed)\n",
    "\n",
    "vulner_train_list, vulner_test_list = train_test_split(vulner_data_list, \n",
    "                                                        test_size=0.1,\n",
    "                                                        stratify=vulner_labels,\n",
    "                                                        random_state=seed)"
   ]
  },
  {
   "cell_type": "code",
   "execution_count": 12,
   "metadata": {},
   "outputs": [
    {
     "name": "stdout",
     "output_type": "stream",
     "text": [
      "Train None-crash: 27448\n",
      "Test None-crash: 3050\n",
      "Train Vulner: 3409\n",
      "Test Vulner: 379\n"
     ]
    }
   ],
   "source": [
    "print(\"Train None-crash:\", len(none_crash_train_list))\n",
    "print(\"Test None-crash:\", len(none_crash_test_list))\n",
    "print(\"Train Vulner:\", len(vulner_train_list))\n",
    "print(\"Test Vulner:\", len(vulner_test_list))"
   ]
  },
  {
   "cell_type": "code",
   "execution_count": null,
   "metadata": {},
   "outputs": [],
   "source": [
    "# ex) train_list[i]: \"../../dataset/data_preprocessed/None-crash\\21-12-01-11-07-44_end_extract_drive26\\00449.pickle\"\n",
    "train_list = none_crash_train_list + vulner_train_list\n",
    "test_list = none_crash_test_list + vulner_test_list\n",
    "\n",
    "random.shuffle(train_list)\n",
    "random.shuffle(test_list)"
   ]
  },
  {
   "cell_type": "markdown",
   "metadata": {},
   "source": [
    "### Split Train data into Train & Validation"
   ]
  },
  {
   "cell_type": "code",
   "execution_count": null,
   "metadata": {},
   "outputs": [],
   "source": [
    "train_labels = [path.split('/')[4].split('\\\\')[0] for path in train_list]"
   ]
  },
  {
   "cell_type": "code",
   "execution_count": null,
   "metadata": {},
   "outputs": [],
   "source": [
    "train_list, valid_list = train_test_split(train_list, \n",
    "                                          test_size=0.2,\n",
    "                                          stratify=train_labels,\n",
    "                                          random_state=seed)"
   ]
  },
  {
   "cell_type": "code",
   "execution_count": null,
   "metadata": {},
   "outputs": [],
   "source": [
    "print(f\"Train Data: {len(train_list)}\")\n",
    "print(f\"Validation Data: {len(valid_list)}\")\n",
    "print(f\"Test Data: {len(test_list)}\")"
   ]
  },
  {
   "cell_type": "markdown",
   "metadata": {},
   "source": [
    "## Load Dataset"
   ]
  },
  {
   "cell_type": "code",
   "execution_count": null,
   "metadata": {},
   "outputs": [],
   "source": [
    "class lidar_dataset(Dataset):\n",
    "    def __init__(self, file_list):\n",
    "        self.file_list = file_list # file name\n",
    "\n",
    "    def __len__(self):\n",
    "        self.filelength = len(self.file_list)\n",
    "        return self.filelength\n",
    "\n",
    "    def __getitem__(self, idx):\n",
    "        lidar_path = self.file_list[idx]\n",
    "        \n",
    "        with open(lidar_path,\"rb\") as fr:\n",
    "            data = pickle.load(fr)\n",
    "\n",
    "        tensor = data['tensor']\n",
    "        # 0 is None-crash\n",
    "        # 1 is Vulnerable\n",
    "        if data['label'] == 'None-crash':  \n",
    "            label = 0\n",
    "        else:\n",
    "            label = 1\n",
    "            \n",
    "        return tensor, label"
   ]
  },
  {
   "cell_type": "code",
   "execution_count": null,
   "metadata": {},
   "outputs": [],
   "source": [
    "train_data = lidar_dataset(train_list)\n",
    "valid_data = lidar_dataset(valid_list)\n",
    "test_data = lidar_dataset(test_list)"
   ]
  },
  {
   "cell_type": "code",
   "execution_count": null,
   "metadata": {},
   "outputs": [],
   "source": [
    "train_loader = DataLoader(dataset = train_data, batch_size=batch_size, shuffle=True)\n",
    "valid_loader = DataLoader(dataset = valid_data, batch_size=batch_size, shuffle=True)\n",
    "test_loader = DataLoader(dataset = test_data, batch_size=batch_size, shuffle=True)"
   ]
  },
  {
   "cell_type": "markdown",
   "metadata": {},
   "source": [
    "## Effecient Attention"
   ]
  },
  {
   "cell_type": "markdown",
   "metadata": {},
   "source": [
    "### Linformer"
   ]
  },
  {
   "cell_type": "code",
   "execution_count": null,
   "metadata": {},
   "outputs": [],
   "source": [
    "efficient_transformer = Linformer(\n",
    "    dim=128,\n",
    "    seq_len=196+1, #patches + 1\n",
    "    depth=12,\n",
    "    heads=8,\n",
    "    k=64\n",
    ")"
   ]
  },
  {
   "cell_type": "markdown",
   "metadata": {},
   "source": [
    "### ViT"
   ]
  },
  {
   "cell_type": "code",
   "execution_count": null,
   "metadata": {},
   "outputs": [],
   "source": [
    "model = ViT(\n",
    "    dim=128,\n",
    "    image_size=28,\n",
    "    patch_size=2,\n",
    "    num_classes=2,\n",
    "    channels=14,\n",
    "    depth=12,\n",
    "    heads=8,\n",
    "    mlp_dim = 2048\n",
    ").to(device)"
   ]
  },
  {
   "cell_type": "markdown",
   "metadata": {},
   "source": [
    "### Training"
   ]
  },
  {
   "cell_type": "code",
   "execution_count": null,
   "metadata": {},
   "outputs": [],
   "source": [
    "# loss function\n",
    "criterion = nn.CrossEntropyLoss()\n",
    "# optimizer\n",
    "optimizer = optim.Adam(model.parameters(), lr=lr)\n",
    "# scheduler\n",
    "scheduler = StepLR(optimizer, step_size=1, gamma=gamma)"
   ]
  },
  {
   "cell_type": "code",
   "execution_count": null,
   "metadata": {},
   "outputs": [],
   "source": [
    "for epoch in range(epochs):\n",
    "    epoch_loss = 0\n",
    "    epoch_accuracy = 0\n",
    "\n",
    "    for data, label in tqdm(train_loader):\n",
    "        data = data.to(device)\n",
    "        label = label.to(device)\n",
    "\n",
    "        output = model(data)\n",
    "        loss = criterion(output, label)\n",
    "\n",
    "        optimizer.zero_grad()\n",
    "        loss.backward()\n",
    "        optimizer.step()\n",
    "\n",
    "        acc = (output.argmax(dim=1) == label).float().mean()\n",
    "        epoch_accuracy += acc / len(train_loader)\n",
    "        epoch_loss += loss / len(train_loader)\n",
    "\n",
    "    with torch.no_grad():\n",
    "        epoch_val_accuracy = 0\n",
    "        epoch_val_loss = 0\n",
    "        for data, label in valid_loader:\n",
    "            data = data.to(device)\n",
    "            label = label.to(device)\n",
    "\n",
    "            val_output = model(data)\n",
    "            val_loss = criterion(val_output, label)\n",
    "\n",
    "            acc = (val_output.argmax(dim=1) == label).float().mean()\n",
    "            epoch_val_accuracy += acc / len(valid_loader)\n",
    "            epoch_val_loss += val_loss / len(valid_loader)\n",
    "\n",
    "    # Save a model each epoch\n",
    "    torch.save(model, \"model\" + str(epoch) + \".pt\")\n",
    "    print(\n",
    "        f\"Epoch : {epoch+1} - loss : {epoch_loss:.4f} - acc: {epoch_accuracy:.4f} - val_loss : {epoch_val_loss:.4f} - val_acc: {epoch_val_accuracy:.4f}\\n\"\n",
    "    )"
   ]
  },
  {
   "cell_type": "code",
   "execution_count": null,
   "metadata": {},
   "outputs": [],
   "source": [
    "# Last trained model\n",
    "model.eval()"
   ]
  },
  {
   "cell_type": "markdown",
   "metadata": {},
   "source": [
    "## Test(Confusion matrix)"
   ]
  },
  {
   "cell_type": "code",
   "execution_count": null,
   "metadata": {},
   "outputs": [],
   "source": [
    "TP, FP, FN, TN = 0, 0, 0, 0\n",
    "TP_list = list()\n",
    "FP_list = list()\n",
    "FN_list = list()\n",
    "TN_list = list()\n",
    "\n",
    "print(\"#Test-data:\", len(test_list))\n",
    "\n",
    "for i in range(len(test_list)):\n",
    "    with open(test_list[i], \"rb\") as fr:\n",
    "        tmp_data = pickle.load(fr)\n",
    "\n",
    "    test_label = tmp_data['label']\n",
    "    if test_label == \"None-crash\":\n",
    "        test_label = 0\n",
    "    else:\n",
    "        test_label = 1\n",
    "\n",
    "    # Make tensor as input of model\n",
    "    test_tensor = np.asarray(tmp_data['tensor'])\n",
    "    test_tensor = np.asarray([test_tensor])\n",
    "    test_tensor = torch.from_numpy(test_tensor)\n",
    "    test_tensor = test_tensor.to(torch.float32).cuda()\n",
    "\n",
    "    pred = model(test_tensor)\n",
    "    if pred[0][0] > pred[0][1]:\n",
    "        pred_idx = 0\n",
    "    elif pred[0][0] < pred[0][1]:\n",
    "        pred_idx = 1\n",
    "    else:\n",
    "        assert pred[0][0] == pred[0][1], 'Same class score'\n",
    "\n",
    "    if pred_idx == 1 and test_label == 1:\n",
    "        TP += 1\n",
    "        TP_list.append(test_list[i])\n",
    "    elif pred_idx == 1 and test_label == 0:\n",
    "        FP += 1\n",
    "        FP_list.append(test_list[i])\n",
    "    elif pred_idx == 0 and test_label == 1:\n",
    "        FN += 1\n",
    "        FN_list.append(test_list[i])\n",
    "    elif pred_idx == 0 and test_label == 0:\n",
    "        TN += 1\n",
    "        TN_list.append(test_list[i])"
   ]
  },
  {
   "cell_type": "code",
   "execution_count": null,
   "metadata": {},
   "outputs": [],
   "source": [
    "acc = (TP+TN)/(TP+TN+FP+FN)\n",
    "spec = (TN/(FP+TN))\n",
    "prec = (TP/(TP+FP))\n",
    "recall = (TP/(TP+FN))\n",
    "\n",
    "print(\"Accuracy:\", acc)\n",
    "print(\"Specificity:\", spec)\n",
    "print(\"Precision:\", prec)\n",
    "print(\"Recall:\", recall)\n",
    "print(\"F1 Score:\", (2*prec*recall/(prec+recall)))"
   ]
  }
 ],
 "metadata": {
  "kernelspec": {
   "display_name": "Python 3.8.13 ('vit')",
   "language": "python",
   "name": "python3"
  },
  "language_info": {
   "codemirror_mode": {
    "name": "ipython",
    "version": 3
   },
   "file_extension": ".py",
   "mimetype": "text/x-python",
   "name": "python",
   "nbconvert_exporter": "python",
   "pygments_lexer": "ipython3",
   "version": "3.8.13 (default, Mar 28 2022, 06:59:08) [MSC v.1916 64 bit (AMD64)]"
  },
  "orig_nbformat": 4,
  "vscode": {
   "interpreter": {
    "hash": "d295846fd87ef922e6d55b2a4ce474aad62b0611de94fcaf8d499101fc8d41c3"
   }
  }
 },
 "nbformat": 4,
 "nbformat_minor": 2
}
